{
 "cells": [
  {
   "cell_type": "code",
   "execution_count": null,
   "id": "0132234a-9cb7-41b3-90c9-8f59c659fd34",
   "metadata": {},
   "outputs": [],
   "source": [
    "import pandas as pd"
   ]
  },
  {
   "cell_type": "code",
   "execution_count": null,
   "id": "c69bd7e8-e08e-4c5a-a06a-ff96005d34b6",
   "metadata": {},
   "outputs": [],
   "source": [
    "df = pd.read_csv(\"Uber Drives 2016.csv\")"
   ]
  },
  {
   "cell_type": "markdown",
   "id": "964412f3-f79e-4f5b-a46e-af0cdb6e9554",
   "metadata": {},
   "source": [
    "# Sorting"
   ]
  },
  {
   "cell_type": "code",
   "execution_count": null,
   "id": "ac6f8519-64ce-46a4-be14-c22599ddf976",
   "metadata": {},
   "outputs": [],
   "source": [
    "df"
   ]
  },
  {
   "cell_type": "code",
   "execution_count": null,
   "id": "e7a682ca-c0ae-4d8a-95de-a71ba7530cc1",
   "metadata": {},
   "outputs": [],
   "source": [
    "df.sort_values(by = [\"MILES*\"], ascending = True)"
   ]
  },
  {
   "cell_type": "code",
   "execution_count": null,
   "id": "ac665f83-9507-415b-991f-ea67a395a2fc",
   "metadata": {},
   "outputs": [],
   "source": [
    "df.sort_values(by = [\"START*\",\"MILES*\"], ascending = [True,False])\n",
    "\n",
    "# start is in ascending order and miles is in descending order."
   ]
  },
  {
   "cell_type": "markdown",
   "id": "aa28fd80-0503-4cbb-b01a-cb831fde8177",
   "metadata": {},
   "source": [
    "# Conditionally adding columns"
   ]
  },
  {
   "cell_type": "code",
   "execution_count": null,
   "id": "fdcd70d1-42b1-4827-bd61-f91f2b01d6b4",
   "metadata": {},
   "outputs": [],
   "source": [
    "import numpy as np"
   ]
  },
  {
   "cell_type": "code",
   "execution_count": null,
   "id": "fa9bed1d-5c59-47f6-bba3-36ab156c04e0",
   "metadata": {},
   "outputs": [],
   "source": [
    "df[\"Miles Category\"] = np.where(df[\"MILES*\"] > 5 , \"Long Trip\", \"Short Trip\")"
   ]
  },
  {
   "cell_type": "code",
   "execution_count": null,
   "id": "9a2b7ec3-738c-4522-b3cf-e163625d755a",
   "metadata": {},
   "outputs": [],
   "source": [
    "df"
   ]
  },
  {
   "cell_type": "code",
   "execution_count": null,
   "id": "abf3c77d-de4d-4e57-9f6e-f3417d4ac93a",
   "metadata": {},
   "outputs": [],
   "source": [
    "#df.drop([\"Miles Category\"], axis = 1)\n",
    "\n",
    "df.drop(columns = [\"Miles Category\"])\n",
    "\n",
    "#can be done both ways"
   ]
  },
  {
   "cell_type": "markdown",
   "id": "75949e45-6b6b-4e6d-843f-b5b97d847a2e",
   "metadata": {},
   "source": [
    "# In-class assignment"
   ]
  },
  {
   "cell_type": "code",
   "execution_count": null,
   "id": "93be40dd-c1e6-4f03-bf93-b7fc1d4b22f6",
   "metadata": {},
   "outputs": [],
   "source": [
    "df[\"Miles Category\"] = np.where(df[\"MILES*\"] > 10 , \"Long Trip\", (np.where((df[\"MILES*\"] > 5) & (df[\"MILES*\"] < 10), \"Medium Trip\", \"Short Trip\")))"
   ]
  },
  {
   "cell_type": "code",
   "execution_count": null,
   "id": "edc58c2a-6d50-4052-b443-ac3752eae021",
   "metadata": {},
   "outputs": [],
   "source": [
    "df"
   ]
  },
  {
   "cell_type": "markdown",
   "id": "1c869e46-338d-4324-9d18-432a46055d49",
   "metadata": {},
   "source": [
    "# Grouping ( SAC : Split, Apply, Combine)"
   ]
  },
  {
   "cell_type": "code",
   "execution_count": null,
   "id": "b88c0495-add4-4c5a-b642-6df3fe4f7c96",
   "metadata": {},
   "outputs": [],
   "source": [
    "# for each start loc find the mean distance travelled\n",
    "df.groupby(\"START*\")[\"MILES*\"].agg(\"mean\")"
   ]
  },
  {
   "cell_type": "code",
   "execution_count": null,
   "id": "ef4cb874-259d-4067-abad-0fe9f883f868",
   "metadata": {},
   "outputs": [],
   "source": [
    "df.groupby(\"START*\")[\"MILES*\"].mean()"
   ]
  },
  {
   "cell_type": "code",
   "execution_count": null,
   "id": "acce15d4-1c23-43ec-ac15-07c9fb79278f",
   "metadata": {},
   "outputs": [],
   "source": [
    "# for each start loc find the mean & the total dist travelled\n",
    "df.groupby(\"START*\")[\"MILES*\"].agg([\"mean\",\"sum\"])"
   ]
  },
  {
   "cell_type": "code",
   "execution_count": null,
   "id": "39721d1f-5775-4f70-ad9f-bf2301385d03",
   "metadata": {},
   "outputs": [],
   "source": [
    "df"
   ]
  },
  {
   "cell_type": "code",
   "execution_count": null,
   "id": "1cb0c9ff-7c80-40b7-aa13-52aed045b4e4",
   "metadata": {},
   "outputs": [],
   "source": [
    "df.groupby(\"START*\")[\"MILES*\"].agg([\"mean\",\"sum\"])"
   ]
  },
  {
   "cell_type": "code",
   "execution_count": null,
   "id": "d63321ae-a109-410b-87de-a4c4c63bc8a1",
   "metadata": {},
   "outputs": [],
   "source": [
    "#just observe\n",
    "df.groupby([\"START*\",\"STOP*\"])[\"MILES*\"].agg([\"mean\",\"sum\"])"
   ]
  },
  {
   "cell_type": "markdown",
   "id": "e5295d9c-0589-4600-81ca-e01c1d6fb15c",
   "metadata": {},
   "source": [
    "### In class assignment\n",
    "\n",
    "Find most recent & the earliest travelled date and mean distance traveled for each start city"
   ]
  },
  {
   "cell_type": "code",
   "execution_count": null,
   "id": "7225cf5e-daa8-4488-8fcf-4ddd7448ef2f",
   "metadata": {},
   "outputs": [],
   "source": [
    "df[\"START_DATE*\"] = pd.to_datetime(df[\"START_DATE*\"], errors = \"coerce\")"
   ]
  },
  {
   "cell_type": "code",
   "execution_count": null,
   "id": "5f5fef09-5903-464a-bfad-456a50be5b6e",
   "metadata": {},
   "outputs": [],
   "source": [
    "df.dtypes"
   ]
  },
  {
   "cell_type": "markdown",
   "id": "8e4cf6da-6dee-4c53-bfa0-f3dd77e2fa51",
   "metadata": {},
   "source": [
    "This can be achieved using a dictionary."
   ]
  },
  {
   "cell_type": "code",
   "execution_count": null,
   "id": "4cecde71-a0f0-482f-a0bf-0e9bf333ffc5",
   "metadata": {},
   "outputs": [],
   "source": [
    "res = df.groupby(\"START*\").agg({\"START_DATE*\": [\"min\",\"max\"], \"MILES*\":[\"mean\"]})\n",
    "res.reset_index(inplace = True)\n",
    "res"
   ]
  },
  {
   "cell_type": "code",
   "execution_count": null,
   "id": "7cfbc794-f6c8-4314-9765-723f4a28313b",
   "metadata": {},
   "outputs": [],
   "source": [
    "#Renaming all columns\n",
    "res.columns = [\"START_CITY\",\"Earliest\",\"Recent\",\"Average distance\"]\n",
    "res"
   ]
  }
 ],
 "metadata": {
  "kernelspec": {
   "display_name": "Python [conda env:base] *",
   "language": "python",
   "name": "conda-base-py"
  },
  "language_info": {
   "codemirror_mode": {
    "name": "ipython",
    "version": 3
   },
   "file_extension": ".py",
   "mimetype": "text/x-python",
   "name": "python",
   "nbconvert_exporter": "python",
   "pygments_lexer": "ipython3",
   "version": "3.10.9"
  }
 },
 "nbformat": 4,
 "nbformat_minor": 5
}
