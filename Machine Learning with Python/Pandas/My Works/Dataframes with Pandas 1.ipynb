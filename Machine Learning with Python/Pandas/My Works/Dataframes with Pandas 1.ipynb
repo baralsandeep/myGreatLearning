{
 "cells": [
  {
   "cell_type": "code",
   "execution_count": null,
   "id": "9695d96d-3a02-47a8-80c1-9105e3d8796f",
   "metadata": {
    "scrolled": true
   },
   "outputs": [],
   "source": [
    "# !pip install pandas"
   ]
  },
  {
   "cell_type": "code",
   "execution_count": null,
   "id": "b1824f67-c330-4e0e-8d06-020c67de66a5",
   "metadata": {},
   "outputs": [],
   "source": [
    "from pandas import read_csv"
   ]
  },
  {
   "cell_type": "code",
   "execution_count": 4,
   "id": "450c72f7-2fbb-464f-b570-dba475c8c0fe",
   "metadata": {},
   "outputs": [],
   "source": [
    "import pandas as pd"
   ]
  },
  {
   "cell_type": "code",
   "execution_count": 6,
   "id": "aff76465-bcac-4679-9ffb-1a65db72f027",
   "metadata": {},
   "outputs": [],
   "source": [
    "df = pd.read_csv(\"Uber Drives 2016.csv\")"
   ]
  },
  {
   "cell_type": "markdown",
   "id": "a2ea7ab3-2401-429c-b1c8-a6f8e887ef4a",
   "metadata": {},
   "source": [
    "# Read_csv considers everything as a string or what they are saved in, we can pass parameters to consider some columns as specific objects (convert data types), example considering 2nd and 3rd columns as date and time object, and so on according to our requirements."
   ]
  },
  {
   "cell_type": "code",
   "execution_count": 8,
   "id": "e7c8250a-109d-4baa-a211-dd9e224113f2",
   "metadata": {},
   "outputs": [
    {
     "data": {
      "text/plain": [
       "START_DATE*     object\n",
       "END_DATE*       object\n",
       "CATEGORY*       object\n",
       "START*          object\n",
       "STOP*           object\n",
       "MILES*         float64\n",
       "PURPOSE*        object\n",
       "dtype: object"
      ]
     },
     "execution_count": 8,
     "metadata": {},
     "output_type": "execute_result"
    }
   ],
   "source": [
    "df.dtypes"
   ]
  },
  {
   "cell_type": "code",
   "execution_count": 10,
   "id": "efa9018c-8da2-403c-b93d-2a2768e1d71d",
   "metadata": {},
   "outputs": [
    {
     "data": {
      "text/html": [
       "<div>\n",
       "<style scoped>\n",
       "    .dataframe tbody tr th:only-of-type {\n",
       "        vertical-align: middle;\n",
       "    }\n",
       "\n",
       "    .dataframe tbody tr th {\n",
       "        vertical-align: top;\n",
       "    }\n",
       "\n",
       "    .dataframe thead th {\n",
       "        text-align: right;\n",
       "    }\n",
       "</style>\n",
       "<table border=\"1\" class=\"dataframe\">\n",
       "  <thead>\n",
       "    <tr style=\"text-align: right;\">\n",
       "      <th></th>\n",
       "      <th>START_DATE*</th>\n",
       "      <th>END_DATE*</th>\n",
       "      <th>CATEGORY*</th>\n",
       "      <th>START*</th>\n",
       "      <th>STOP*</th>\n",
       "      <th>MILES*</th>\n",
       "      <th>PURPOSE*</th>\n",
       "    </tr>\n",
       "  </thead>\n",
       "  <tbody>\n",
       "    <tr>\n",
       "      <th>0</th>\n",
       "      <td>1/1/2016 21:11</td>\n",
       "      <td>1/1/2016 21:17</td>\n",
       "      <td>Business</td>\n",
       "      <td>Fort Pierce</td>\n",
       "      <td>Fort Pierce</td>\n",
       "      <td>5.1</td>\n",
       "      <td>Meal/Entertain</td>\n",
       "    </tr>\n",
       "    <tr>\n",
       "      <th>1</th>\n",
       "      <td>1/2/2016 1:25</td>\n",
       "      <td>1/2/2016 1:37</td>\n",
       "      <td>Business</td>\n",
       "      <td>Fort Pierce</td>\n",
       "      <td>Fort Pierce</td>\n",
       "      <td>5.0</td>\n",
       "      <td>NaN</td>\n",
       "    </tr>\n",
       "    <tr>\n",
       "      <th>2</th>\n",
       "      <td>1/2/2016 20:25</td>\n",
       "      <td>1/2/2016 20:38</td>\n",
       "      <td>Business</td>\n",
       "      <td>Fort Pierce</td>\n",
       "      <td>Fort Pierce</td>\n",
       "      <td>4.8</td>\n",
       "      <td>Errand/Supplies</td>\n",
       "    </tr>\n",
       "    <tr>\n",
       "      <th>3</th>\n",
       "      <td>1/5/2016 17:31</td>\n",
       "      <td>1/5/2016 17:45</td>\n",
       "      <td>Business</td>\n",
       "      <td>Fort Pierce</td>\n",
       "      <td>Fort Pierce</td>\n",
       "      <td>4.7</td>\n",
       "      <td>Meeting</td>\n",
       "    </tr>\n",
       "    <tr>\n",
       "      <th>4</th>\n",
       "      <td>1/6/2016 14:42</td>\n",
       "      <td>1/6/2016 15:49</td>\n",
       "      <td>Business</td>\n",
       "      <td>Fort Pierce</td>\n",
       "      <td>West Palm Beach</td>\n",
       "      <td>63.7</td>\n",
       "      <td>Customer Visit</td>\n",
       "    </tr>\n",
       "    <tr>\n",
       "      <th>...</th>\n",
       "      <td>...</td>\n",
       "      <td>...</td>\n",
       "      <td>...</td>\n",
       "      <td>...</td>\n",
       "      <td>...</td>\n",
       "      <td>...</td>\n",
       "      <td>...</td>\n",
       "    </tr>\n",
       "    <tr>\n",
       "      <th>1151</th>\n",
       "      <td>12/31/2016 13:24</td>\n",
       "      <td>12/31/2016 13:42</td>\n",
       "      <td>Business</td>\n",
       "      <td>Kar?chi</td>\n",
       "      <td>Unknown Location</td>\n",
       "      <td>3.9</td>\n",
       "      <td>Temporary Site</td>\n",
       "    </tr>\n",
       "    <tr>\n",
       "      <th>1152</th>\n",
       "      <td>12/31/2016 15:03</td>\n",
       "      <td>12/31/2016 15:38</td>\n",
       "      <td>Business</td>\n",
       "      <td>Unknown Location</td>\n",
       "      <td>Unknown Location</td>\n",
       "      <td>16.2</td>\n",
       "      <td>Meeting</td>\n",
       "    </tr>\n",
       "    <tr>\n",
       "      <th>1153</th>\n",
       "      <td>12/31/2016 21:32</td>\n",
       "      <td>12/31/2016 21:50</td>\n",
       "      <td>Business</td>\n",
       "      <td>Katunayake</td>\n",
       "      <td>Gampaha</td>\n",
       "      <td>6.4</td>\n",
       "      <td>Temporary Site</td>\n",
       "    </tr>\n",
       "    <tr>\n",
       "      <th>1154</th>\n",
       "      <td>12/31/2016 22:08</td>\n",
       "      <td>12/31/2016 23:51</td>\n",
       "      <td>Business</td>\n",
       "      <td>Gampaha</td>\n",
       "      <td>Ilukwatta</td>\n",
       "      <td>48.2</td>\n",
       "      <td>Temporary Site</td>\n",
       "    </tr>\n",
       "    <tr>\n",
       "      <th>1155</th>\n",
       "      <td>Totals</td>\n",
       "      <td>NaN</td>\n",
       "      <td>NaN</td>\n",
       "      <td>NaN</td>\n",
       "      <td>NaN</td>\n",
       "      <td>12204.7</td>\n",
       "      <td>NaN</td>\n",
       "    </tr>\n",
       "  </tbody>\n",
       "</table>\n",
       "<p>1156 rows × 7 columns</p>\n",
       "</div>"
      ],
      "text/plain": [
       "           START_DATE*         END_DATE* CATEGORY*            START*  \\\n",
       "0       1/1/2016 21:11    1/1/2016 21:17  Business       Fort Pierce   \n",
       "1        1/2/2016 1:25     1/2/2016 1:37  Business       Fort Pierce   \n",
       "2       1/2/2016 20:25    1/2/2016 20:38  Business       Fort Pierce   \n",
       "3       1/5/2016 17:31    1/5/2016 17:45  Business       Fort Pierce   \n",
       "4       1/6/2016 14:42    1/6/2016 15:49  Business       Fort Pierce   \n",
       "...                ...               ...       ...               ...   \n",
       "1151  12/31/2016 13:24  12/31/2016 13:42  Business           Kar?chi   \n",
       "1152  12/31/2016 15:03  12/31/2016 15:38  Business  Unknown Location   \n",
       "1153  12/31/2016 21:32  12/31/2016 21:50  Business        Katunayake   \n",
       "1154  12/31/2016 22:08  12/31/2016 23:51  Business           Gampaha   \n",
       "1155            Totals               NaN       NaN               NaN   \n",
       "\n",
       "                 STOP*   MILES*         PURPOSE*  \n",
       "0          Fort Pierce      5.1   Meal/Entertain  \n",
       "1          Fort Pierce      5.0              NaN  \n",
       "2          Fort Pierce      4.8  Errand/Supplies  \n",
       "3          Fort Pierce      4.7          Meeting  \n",
       "4      West Palm Beach     63.7   Customer Visit  \n",
       "...                ...      ...              ...  \n",
       "1151  Unknown Location      3.9   Temporary Site  \n",
       "1152  Unknown Location     16.2          Meeting  \n",
       "1153           Gampaha      6.4   Temporary Site  \n",
       "1154         Ilukwatta     48.2   Temporary Site  \n",
       "1155               NaN  12204.7              NaN  \n",
       "\n",
       "[1156 rows x 7 columns]"
      ]
     },
     "execution_count": 10,
     "metadata": {},
     "output_type": "execute_result"
    }
   ],
   "source": [
    "df"
   ]
  },
  {
   "cell_type": "markdown",
   "id": "31a492bc-178d-4ae7-8f1d-83626254520e",
   "metadata": {},
   "source": [
    "# Columns are known as series here."
   ]
  },
  {
   "cell_type": "code",
   "execution_count": null,
   "id": "2dd65718-addf-430e-aafd-302bbd356c8d",
   "metadata": {},
   "outputs": [],
   "source": [
    "df.head()\n",
    "#gives first 5 elements\n",
    "df.head( n = 10)"
   ]
  },
  {
   "cell_type": "code",
   "execution_count": null,
   "id": "4fd67c13-bd41-49dd-9d53-c74c89924629",
   "metadata": {},
   "outputs": [],
   "source": [
    "df.shape"
   ]
  },
  {
   "cell_type": "code",
   "execution_count": null,
   "id": "f2092a9d-e48e-413a-8e96-3c5e3ec892ce",
   "metadata": {},
   "outputs": [],
   "source": [
    "df.tail()"
   ]
  },
  {
   "cell_type": "markdown",
   "id": "e0f27e33-e0f9-41a7-b83b-a468fbccdbb4",
   "metadata": {},
   "source": [
    "# Changing Datatypes"
   ]
  },
  {
   "cell_type": "code",
   "execution_count": null,
   "id": "8830fba6-f2c2-45ad-8932-b73ba55af475",
   "metadata": {},
   "outputs": [],
   "source": [
    "temp = pd.DataFrame({\"A\":[\"1\",\"2\",\"3\"],\n",
    "                     \"B\":[11,12,13],\n",
    "                     \"C\":[\"12-06-2012\", \"13-06-2015\", \"15-06-2017\"]})"
   ]
  },
  {
   "cell_type": "code",
   "execution_count": null,
   "id": "d2d14ed2-e2b7-4c69-9206-4ce5ad6026d8",
   "metadata": {},
   "outputs": [],
   "source": [
    "temp"
   ]
  },
  {
   "cell_type": "code",
   "execution_count": null,
   "id": "fc240645-2d86-46ab-8511-66018369263c",
   "metadata": {},
   "outputs": [],
   "source": [
    "temp.dtypes"
   ]
  },
  {
   "cell_type": "code",
   "execution_count": null,
   "id": "5a542496-ed45-4edc-ac24-c1a436ccc071",
   "metadata": {},
   "outputs": [],
   "source": [
    "pd.to_datetime([\"2016-11-02\",\"2002-01-31\"])"
   ]
  },
  {
   "cell_type": "code",
   "execution_count": null,
   "id": "d16f64e6-f725-48c4-b2db-3a2eeff727c5",
   "metadata": {},
   "outputs": [],
   "source": [
    "temp[\"C\"] = pd.to_datetime(temp[\"C\"])"
   ]
  },
  {
   "cell_type": "code",
   "execution_count": null,
   "id": "22770f1d-d4d3-4005-88fe-2f1563389db0",
   "metadata": {},
   "outputs": [],
   "source": [
    "temp.dtypes"
   ]
  },
  {
   "cell_type": "code",
   "execution_count": null,
   "id": "9db86a66-0745-4018-b26b-2320598a067b",
   "metadata": {},
   "outputs": [],
   "source": [
    "temp[\"A\"] = pd.to_numeric(temp[\"A\"])"
   ]
  },
  {
   "cell_type": "code",
   "execution_count": null,
   "id": "4da8d404-d7b9-4454-adea-6f4633342dd6",
   "metadata": {},
   "outputs": [],
   "source": [
    "temp.dtypes"
   ]
  },
  {
   "cell_type": "code",
   "execution_count": null,
   "id": "d66d5509-5033-41dd-b610-507f38fc1d3f",
   "metadata": {},
   "outputs": [],
   "source": [
    "pd.to_datetime([\"2026-sep-11\", \"abc\"], errors = \"coerce\")\n",
    "# errors = \"coerce\" to filter out those ones which are not valid dates or vague ones."
   ]
  },
  {
   "cell_type": "code",
   "execution_count": null,
   "id": "2167a88b-c255-42b4-9b71-78fb2d708e67",
   "metadata": {},
   "outputs": [],
   "source": [
    "#Making change to the original dataframe we loaded from csv\n",
    "pd.to_datetime(df[\"START_DATE*\"], format = '%m/%d/%Y %H:%M' , errors = \"coerce\")\n",
    "\n",
    "#errors = \"coerce\" because the last column has a string named total."
   ]
  },
  {
   "cell_type": "markdown",
   "id": "b8d3ed1b-82b2-49b9-a8aa-343db503b8e7",
   "metadata": {},
   "source": [
    "# Dataset Summarization Methods"
   ]
  },
  {
   "cell_type": "code",
   "execution_count": null,
   "id": "68ef8c45-9ce2-41d8-be8f-1aadbd8a0866",
   "metadata": {},
   "outputs": [],
   "source": [
    "df.describe(include = \"all\")"
   ]
  },
  {
   "cell_type": "code",
   "execution_count": null,
   "id": "ac7dd6d7-8657-436b-bbb9-512327402175",
   "metadata": {},
   "outputs": [],
   "source": [
    "df.describe()"
   ]
  },
  {
   "cell_type": "code",
   "execution_count": null,
   "id": "59541a39-d7aa-4210-bb86-00c237faabb0",
   "metadata": {},
   "outputs": [],
   "source": [
    "df.info()"
   ]
  },
  {
   "cell_type": "code",
   "execution_count": null,
   "id": "f9296c94-415e-46b8-858a-87335bd17d3c",
   "metadata": {},
   "outputs": [],
   "source": [
    "#Count of unique start locations\n",
    "df[\"START*\"].value_counts()"
   ]
  },
  {
   "cell_type": "code",
   "execution_count": null,
   "id": "db2ee275-6626-4284-b6de-9f0f6863c8e3",
   "metadata": {},
   "outputs": [],
   "source": [
    "#we can get top5 counts too\n",
    "df[\"START*\"].value_counts().head()"
   ]
  },
  {
   "cell_type": "markdown",
   "id": "d742d4a7-6a8d-4e15-9932-c2f1ed67fbe8",
   "metadata": {},
   "source": [
    "# Data manipulation tasks"
   ]
  },
  {
   "cell_type": "markdown",
   "id": "3729c32b-c7f3-47af-aa9e-2159ea521357",
   "metadata": {},
   "source": [
    "5 verbs of data manipulation\n",
    "\n",
    "1. Selecting/Indexing\n",
    "2. Filtering\n",
    "3. Sorting\n",
    "4. Mutating/ Conditionally adding columns\n",
    "5. Groupby/Summarize"
   ]
  },
  {
   "cell_type": "markdown",
   "id": "9aeeb6e6-0137-4b4b-b9ba-d213798059c7",
   "metadata": {},
   "source": [
    "# Selecting/Indexing"
   ]
  },
  {
   "cell_type": "markdown",
   "id": "418a83ed-1c36-4556-ba22-9b821128c029",
   "metadata": {},
   "source": [
    "iloc means accessing the row or a column by a number, is an outdated one. loc is used generally now."
   ]
  },
  {
   "cell_type": "code",
   "execution_count": null,
   "id": "8ab2dc51-2dcd-45e7-8410-f9193089265e",
   "metadata": {},
   "outputs": [],
   "source": [
    "df.iloc[0:5 ,0:4]"
   ]
  },
  {
   "cell_type": "markdown",
   "id": "aa5d8c70-4792-4715-a0f0-8011fb58d54c",
   "metadata": {},
   "source": [
    "# we can tell which, which columns or rows we want. Iloc is called positional indexing"
   ]
  },
  {
   "cell_type": "code",
   "execution_count": null,
   "id": "4f519899-0822-4981-9f9a-90bc2c154506",
   "metadata": {},
   "outputs": [],
   "source": [
    "df.iloc[ [0,1,4,5] , [2,3,4] ]"
   ]
  },
  {
   "cell_type": "code",
   "execution_count": null,
   "id": "a94fd808-048f-43ba-82d4-4f96fff97cd6",
   "metadata": {},
   "outputs": [],
   "source": [
    "df.iloc[ : -1 , :  ]\n",
    "#There is no last row \" : -1 \" means total rows minus last one"
   ]
  },
  {
   "cell_type": "code",
   "execution_count": null,
   "id": "e6553e35-f702-4a3f-a49d-00ddc1876b08",
   "metadata": {},
   "outputs": [],
   "source": [
    "df.iloc [ : , : -1 ]\n",
    "#There will be no last column"
   ]
  },
  {
   "cell_type": "markdown",
   "id": "38e6e3d5-a8a1-4a78-854c-0fa95cb2970c",
   "metadata": {},
   "source": [
    "# Loc is called Label based indexing."
   ]
  },
  {
   "cell_type": "code",
   "execution_count": null,
   "id": "476beae7-7e1f-4f3c-8485-4738d3e6557f",
   "metadata": {},
   "outputs": [],
   "source": [
    "df.loc[ :, [\"START*\", \"STOP*\"] ]"
   ]
  },
  {
   "cell_type": "markdown",
   "id": "804b1661-a0e3-44ca-8857-cf4f4e4de3ab",
   "metadata": {},
   "source": [
    "# can also be directly accessed"
   ]
  },
  {
   "cell_type": "code",
   "execution_count": null,
   "id": "e67635f3-2030-4e0b-ac47-deff27fd7b6d",
   "metadata": {},
   "outputs": [],
   "source": [
    "df [[ \"START*\" , \"STOP*\" ]]"
   ]
  },
  {
   "cell_type": "code",
   "execution_count": null,
   "id": "3f78e427-35e2-4ba5-87bb-918c3bb70cfa",
   "metadata": {},
   "outputs": [],
   "source": [
    "abc = df.loc[:, \"START*\"]\n",
    "abc"
   ]
  },
  {
   "cell_type": "code",
   "execution_count": null,
   "id": "888f241c-7f86-4790-8d9f-94d6c134edf6",
   "metadata": {},
   "outputs": [],
   "source": [
    "type(abc)"
   ]
  },
  {
   "cell_type": "markdown",
   "id": "8fe3b87b-9781-49f0-9d2b-48585b8044b4",
   "metadata": {},
   "source": [
    "So we see if we acquire a single column using loc, it gives an output of series datatype. We dont want that while manipulating a dataframe during work. Instead we can do:"
   ]
  },
  {
   "cell_type": "code",
   "execution_count": null,
   "id": "b4d4e730-f880-4035-b73b-30d2ba00bdfb",
   "metadata": {},
   "outputs": [],
   "source": [
    "df.loc[: , [\"START*\"] ]"
   ]
  },
  {
   "cell_type": "markdown",
   "id": "1ef0edee-1ff3-4679-a58e-ac663a6e6123",
   "metadata": {},
   "source": [
    "### In Class assignment\n",
    "\n",
    "Extract first 5 rows and columns START_DATE* and MILES*"
   ]
  },
  {
   "cell_type": "code",
   "execution_count": null,
   "id": "d3e0e426-a162-457d-a838-91573fa8d16c",
   "metadata": {},
   "outputs": [],
   "source": [
    "df.loc[ :4, [\"START_DATE*\",\"MILES*\"] ]"
   ]
  },
  {
   "cell_type": "code",
   "execution_count": null,
   "id": "ddd31ee3-9a43-440e-9ad7-e8e9825bc5b4",
   "metadata": {},
   "outputs": [],
   "source": [
    "df.loc[ :, [\"START_DATE*\",\"MILES*\"] ]. head()"
   ]
  },
  {
   "cell_type": "markdown",
   "id": "1a680dfd-f8c3-447c-893d-3f47ecf37e4b",
   "metadata": {},
   "source": [
    "# Filtering"
   ]
  },
  {
   "cell_type": "markdown",
   "id": "61256932-c9c2-4042-8284-7477fa0f5714",
   "metadata": {},
   "source": [
    "Accessing without using loc or iloc, but we can select specific rows only, not columns"
   ]
  },
  {
   "cell_type": "code",
   "execution_count": null,
   "id": "efffaf89-8131-4e20-a3f3-22a42dd4ea8e",
   "metadata": {},
   "outputs": [],
   "source": [
    "df[df[\"MILES*\"] > 10]"
   ]
  },
  {
   "cell_type": "code",
   "execution_count": null,
   "id": "c684a2b2-b322-4ec0-a2a9-2c3f287620c5",
   "metadata": {},
   "outputs": [],
   "source": [
    "df.loc[df[\"MILES*\"] > 10]"
   ]
  },
  {
   "cell_type": "code",
   "execution_count": null,
   "id": "9b1c3c1b-5aa9-4391-873e-bed3ce7051aa",
   "metadata": {},
   "outputs": [],
   "source": [
    "df2 = df.loc[df[\"MILES*\"] > 10, [\"START_DATE*\",\"MILES*\"]]\n",
    "df2.head()"
   ]
  },
  {
   "cell_type": "code",
   "execution_count": null,
   "id": "8898eab7-c8df-42fa-b543-344d40217a93",
   "metadata": {},
   "outputs": [],
   "source": [
    "df2.loc[0:3]"
   ]
  },
  {
   "cell_type": "markdown",
   "id": "f524b085-a05e-4a7e-a94b-26c0a7175805",
   "metadata": {},
   "source": [
    "# It is because we can see there are no indexes from 0 to 3 in df2, it has other indexes and are not serial.\n",
    "So, to solve this problem"
   ]
  },
  {
   "cell_type": "code",
   "execution_count": null,
   "id": "e3338070-dc24-488d-9c28-aa3e47d350b4",
   "metadata": {},
   "outputs": [],
   "source": [
    "df2.reset_index(inplace = True, drop = True)\n",
    "df2"
   ]
  },
  {
   "cell_type": "code",
   "execution_count": null,
   "id": "43fe5e0d-566a-4916-af00-3aa27dc29d62",
   "metadata": {},
   "outputs": [],
   "source": [
    "#Find out all rides from Cary\n",
    "df.loc[df[\"START*\"] == \"Cary\",[\"STOP*\",\"MILES*\"]].head()"
   ]
  },
  {
   "cell_type": "code",
   "execution_count": null,
   "id": "4c677c8b-5644-4cca-b0fe-c31e23c80334",
   "metadata": {},
   "outputs": [],
   "source": [
    "#Find out all rides from Cary and Morrisville\n",
    "df.loc[df[\"START*\"].isin([\"Cary\",\"Morrisville\"]),[\"STOP*\",\"MILES*\"]]"
   ]
  },
  {
   "cell_type": "code",
   "execution_count": null,
   "id": "c7ccfbbc-d45a-4de7-ab9c-d7b20fba40c6",
   "metadata": {},
   "outputs": [],
   "source": [
    "#Find out all rides except from Cary and Morrisville\n",
    "df.loc[~df[\"START*\"].isin([\"Cary\",\"Morrisville\"]),[\"STOP*\",\"MILES*\"]]"
   ]
  },
  {
   "cell_type": "code",
   "execution_count": null,
   "id": "97a3a9ca-2c88-449d-8556-cead31a00e42",
   "metadata": {},
   "outputs": [],
   "source": [
    "#Close each condition with small brackets before ANDing. (df[]...) & (df..)\n",
    "df[(df[\"START*\"].isin([\"Cary\",\"Morrisville\"])) & (df[\"MILES*\"] >10)]"
   ]
  },
  {
   "cell_type": "markdown",
   "id": "54a047a1-a999-41f7-9e16-fd61da328a31",
   "metadata": {},
   "source": [
    "# Sorting"
   ]
  },
  {
   "cell_type": "markdown",
   "id": "d7de2c4e-2ad5-40b0-a889-5e645b298dca",
   "metadata": {},
   "source": [
    "Continued in the next file"
   ]
  },
  {
   "cell_type": "code",
   "execution_count": null,
   "id": "6105cb84-7ea4-4fd5-8cc3-bc3075a86bee",
   "metadata": {},
   "outputs": [],
   "source": []
  }
 ],
 "metadata": {
  "kernelspec": {
   "display_name": "Python [conda env:base] *",
   "language": "python",
   "name": "conda-base-py"
  },
  "language_info": {
   "codemirror_mode": {
    "name": "ipython",
    "version": 3
   },
   "file_extension": ".py",
   "mimetype": "text/x-python",
   "name": "python",
   "nbconvert_exporter": "python",
   "pygments_lexer": "ipython3",
   "version": "3.10.9"
  }
 },
 "nbformat": 4,
 "nbformat_minor": 5
}
