{
 "cells": [
  {
   "cell_type": "code",
   "execution_count": 3,
   "id": "405bb1b7-7508-417b-9136-3aed280f1a17",
   "metadata": {},
   "outputs": [],
   "source": [
    "from IPython.core.interactiveshell import InteractiveShell\n",
    "InteractiveShell.ast_node_interactivity = \"all\""
   ]
  },
  {
   "cell_type": "code",
   "execution_count": 9,
   "id": "0a9b5a0d-e98f-4a12-9a8f-df86bfaa0041",
   "metadata": {},
   "outputs": [
    {
     "data": {
      "text/plain": [
       "[20, 30, 40, 50, 60, 70]"
      ]
     },
     "execution_count": 9,
     "metadata": {},
     "output_type": "execute_result"
    },
    {
     "data": {
      "text/plain": [
       "20"
      ]
     },
     "execution_count": 9,
     "metadata": {},
     "output_type": "execute_result"
    }
   ],
   "source": [
    "## List, Dictionary, Tuple\n",
    "\n",
    "mylist = [20,30,40,50,60,70]\n",
    "mylist\n",
    "mylist[0]"
   ]
  },
  {
   "cell_type": "code",
   "execution_count": 11,
   "id": "d388064d-1649-4a1f-9ae9-d597384a43c9",
   "metadata": {},
   "outputs": [
    {
     "data": {
      "text/plain": [
       "'My number'"
      ]
     },
     "execution_count": 11,
     "metadata": {},
     "output_type": "execute_result"
    },
    {
     "data": {
      "text/plain": [
       "'Trainer'"
      ]
     },
     "execution_count": 11,
     "metadata": {},
     "output_type": "execute_result"
    },
    {
     "data": {
      "text/plain": [
       "dict_keys(['Raghu', 'You', 3])"
      ]
     },
     "execution_count": 11,
     "metadata": {},
     "output_type": "execute_result"
    },
    {
     "data": {
      "text/plain": [
       "dict_values(['Trainer', 'Participants', 'My number'])"
      ]
     },
     "execution_count": 11,
     "metadata": {},
     "output_type": "execute_result"
    }
   ],
   "source": [
    "dict = {\"Raghu\" : \"Trainer\" , \"You\" : \"Participants\", 3 : \"My number\"}\n",
    "dict[3]\n",
    "dict[\"Raghu\"]\n",
    "dict.keys()\n",
    "dict.values()"
   ]
  },
  {
   "cell_type": "code",
   "execution_count": 23,
   "id": "fae9e5e1-038f-412b-8dd3-44f31a0755a0",
   "metadata": {},
   "outputs": [
    {
     "data": {
      "text/plain": [
       "'WIPRO'"
      ]
     },
     "execution_count": 23,
     "metadata": {},
     "output_type": "execute_result"
    }
   ],
   "source": [
    "students = { \"s_1\":[\"IBM\"], \"s_2\":[\"INFY\",\"WIPRO\",\"GOOGLE\"]}\n",
    "students[\"s_2\"][1] #students[\"s_2\"] gives an array and then [1] gives its second value."
   ]
  },
  {
   "cell_type": "code",
   "execution_count": 41,
   "id": "d01ca547-d2ca-4da5-98ae-79bd88f379af",
   "metadata": {},
   "outputs": [
    {
     "data": {
      "text/plain": [
       "dict_items([('s_1', ['IBM']), ('s_2', ['INFY', 'WIPRO', 'GOOGLE'])])"
      ]
     },
     "execution_count": 41,
     "metadata": {},
     "output_type": "execute_result"
    },
    {
     "data": {
      "text/plain": [
       "[['IBM'], ['INFY', 'WIPRO', 'GOOGLE']]"
      ]
     },
     "execution_count": 41,
     "metadata": {},
     "output_type": "execute_result"
    }
   ],
   "source": [
    "students.items() #Its output is a dict_items object.\n",
    "#A direct way to iterate through the dictionary and print them.\n",
    "[value for key,value in students.items()]"
   ]
  },
  {
   "cell_type": "markdown",
   "id": "c2250d2f-e525-45fa-b953-105fc2cade83",
   "metadata": {},
   "source": [
    "# List is mutable but tuple is immutable"
   ]
  },
  {
   "cell_type": "code",
   "execution_count": 27,
   "id": "2e9563ab-2d5f-426a-819b-4d6029ae39d3",
   "metadata": {},
   "outputs": [
    {
     "data": {
      "text/plain": [
       "[20, 30, 40, 50, 60, 70, 7]"
      ]
     },
     "execution_count": 27,
     "metadata": {},
     "output_type": "execute_result"
    }
   ],
   "source": [
    "tup_ex = (1,2,3,1)\n",
    "mylist.append(7)\n",
    "mylist"
   ]
  }
 ],
 "metadata": {
  "kernelspec": {
   "display_name": "Python [conda env:base] *",
   "language": "python",
   "name": "conda-base-py"
  },
  "language_info": {
   "codemirror_mode": {
    "name": "ipython",
    "version": 3
   },
   "file_extension": ".py",
   "mimetype": "text/x-python",
   "name": "python",
   "nbconvert_exporter": "python",
   "pygments_lexer": "ipython3",
   "version": "3.10.9"
  }
 },
 "nbformat": 4,
 "nbformat_minor": 5
}
